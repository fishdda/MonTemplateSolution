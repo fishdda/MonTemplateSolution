{
 "cells": [
  {
   "cell_type": "code",
   "execution_count": 3,
   "metadata": {},
   "outputs": [],
   "source": [
    "import pymedphys, pydicom\n",
    "from pymedphys import dicom\n",
    "import numpy as np\n",
    "import pandas as pd\n",
    "from pymedphys import mudensity\n",
    "import matplotlib.pyplot as plt"
   ]
  },
  {
   "cell_type": "code",
   "execution_count": 12,
   "metadata": {},
   "outputs": [],
   "source": [
    "file_path = 'C:/GitFolder/VMAT-QA-metrics/example/test_case/VMAT1Arc/0028_VMAT202003181arc.dcm'\n",
    "file = pydicom.read_file(file_path, force=True)\n",
    "fraction_group = file.FractionGroupSequence[0]"
   ]
  },
  {
   "cell_type": "code",
   "execution_count": 13,
   "metadata": {},
   "outputs": [
    {
     "data": {
      "text/plain": [
       "(300a, 0071) Fraction Group Number               IS: \"1\"\n",
       "(300a, 0078) Number of Fractions Planned         IS: \"28\"\n",
       "(300a, 0080) Number of Beams                     IS: \"1\"\n",
       "(300a, 00a0) Number of Brachy Application Setups IS: \"0\"\n",
       "(300c, 0004)  Referenced Beam Sequence   1 item(s) ---- \n",
       "   (300a, 0082) Beam Dose Specification Point       DS: [-10.3, 49.0, -818.0]\n",
       "   (300a, 0084) Beam Dose                           DS: \"2.275\"\n",
       "   (300a, 0086) Beam Meterset                       DS: \"643.489563\"\n",
       "   (300c, 0006) Referenced Beam Number              IS: \"1\"\n",
       "   ---------\n",
       "(300c, 0050)  Referenced Dose Reference Sequence   1 item(s) ---- \n",
       "   (300c, 0051) Referenced Dose Reference Number    IS: \"1\"\n",
       "   ---------"
      ]
     },
     "execution_count": 13,
     "metadata": {},
     "output_type": "execute_result"
    }
   ],
   "source": [
    "fraction_group"
   ]
  },
  {
   "cell_type": "code",
   "execution_count": 5,
   "metadata": {},
   "outputs": [],
   "source": [
    "# Per Segment\n",
    "def calc_mu_density_per_segment_and_display(cp, current_weight, total_mu, check_mlc=True, display=True, \n",
    "                                            grid_resolution=1, max_leaf_gap=400, leaf_pair_widths=[5]*80):\n",
    "    # Ref: correlate the DICOM MLC leaf positions with Monaco display\n",
    "    # multipling by [-1, 1]\n",
    "    raw_mlc = np.array([cp.BeamLimitingDevicePositionSequence[1].LeafJawPositions])\n",
    "    mlc = np.swapaxes(raw_mlc.reshape(1,2,len(leaf_pair_widths)),1,2) * np.array([-1,1])\n",
    "    mlc = np.append(mlc, mlc, 0)\n",
    "    jaw = np.array([cp.BeamLimitingDevicePositionSequence[0].LeafJawPositions]) * np.array([-1,1])\n",
    "    jaw = np.append(jaw, jaw, 0)\n",
    "    mu = [current_weight * total_mu, cp.CumulativeMetersetWeight * total_mu]\n",
    "    \n",
    "    if check_mlc:\n",
    "        print('.........showing the setup MLC-jaw positions of current segment')\n",
    "        # Check MLC and jaw coordinates\n",
    "        plt.plot(mlc[0]*np.array([-1,1]), np.arange(-200,200,5))\n",
    "        plt.axhline(-jaw[0,0],xmin=-200, xmax=200, color='red')\n",
    "        plt.axhline(jaw[0,1],xmin=-200, xmax=200,color='green')\n",
    "        plt.xlim(-200,200)\n",
    "        plt.ylim(200, -200)\n",
    "        plt.show()\n",
    "        \n",
    "    mu_density = mudensity.calc_mu_density(mu, mlc, jaw, grid_resolution=grid_resolution, \n",
    "                                           max_leaf_gap=max_leaf_gap, leaf_pair_widths=leaf_pair_widths)\n",
    "    current_weight = cp.CumulativeMetersetWeight\n",
    "    \n",
    "    if display:\n",
    "        grid = mudensity.get_grid(max_leaf_gap=max_leaf_gap, grid_resolution=grid_resolution,\n",
    "                                  leaf_pair_widths=leaf_pair_widths)\n",
    "        mudensity.display_mu_density(grid, mu_density)\n",
    "        print('......MU Density of Current Segment')\n",
    "        plt.show()\n",
    "\n",
    "    return mu_density"
   ]
  },
  {
   "cell_type": "code",
   "execution_count": 6,
   "metadata": {},
   "outputs": [],
   "source": [
    "# Per Beam    \n",
    "def mu_density_per_beam_and_display(beam, total_mu, display=True, grid_resolution=1, max_leaf_gap=400, \n",
    "                                    leaf_pair_widths=[5]*80):\n",
    "    N_CP = beam.NumberOfControlPoints\n",
    "    \n",
    "    print('......calculating segment no. 0')    \n",
    "    mu_density = calc_mu_density_per_segment_and_display(beam.ControlPointSequence[0], 0, total_mu=total_mu, \n",
    "                                                         check_mlc=True, display=True, grid_resolution=grid_resolution,\n",
    "                                                         max_leaf_gap=max_leaf_gap, leaf_pair_widths=leaf_pair_widths)\n",
    "    \n",
    "    if N_CP > 1:\n",
    "        current_weight = beam.ControlPointSequence[0].CumulativeMetersetWeight\n",
    "        for i in range(N_CP-1):\n",
    "            print('......calculating segment no. ' + str(i+1))\n",
    "            mu_density += calc_mu_density_per_segment_and_display(beam.ControlPointSequence[i+1], \n",
    "                                                                  current_weight, total_mu=total_mu, check_mlc=False, \n",
    "                                                                  display=False, grid_resolution=grid_resolution, \n",
    "                                                                  max_leaf_gap=max_leaf_gap, \n",
    "                                                                  leaf_pair_widths=leaf_pair_widths)\n",
    "            current_weight = beam.ControlPointSequence[i+1].CumulativeMetersetWeight\n",
    "    if display:\n",
    "        grid = mudensity.get_grid(max_leaf_gap=max_leaf_gap, grid_resolution=grid_resolution,\n",
    "                                  leaf_pair_widths=leaf_pair_widths)\n",
    "        mudensity.display_mu_density(grid, mu_density)\n",
    "        print('...MU Density of Current Beam')\n",
    "        plt.show()\n",
    "        print('..............................................')\n",
    "   \n",
    "    return mu_density\n"
   ]
  },
  {
   "cell_type": "code",
   "execution_count": 7,
   "metadata": {},
   "outputs": [],
   "source": [
    "# Per patient\n",
    "def mu_density_per_patient_and_display(file, fraction_group, display=True, grid_resolution=1, \n",
    "                                       max_leaf_gap=400, leaf_pair_widths=[5]*80):\n",
    "    print('Starting')\n",
    "    print('...calculating beam no. 0')\n",
    "\n",
    "    total_mu = fraction_group.ReferencedBeamSequence[0].BeamMeterset\n",
    "    mu_density = mu_density_per_beam_and_display(file.BeamSequence[0], total_mu, display=True, \n",
    "                                                 grid_resolution=grid_resolution, max_leaf_gap=max_leaf_gap, \n",
    "                                                 leaf_pair_widths=leaf_pair_widths)\n",
    "\n",
    "    if fraction_group.NumberOfBeams > 1:\n",
    "        for i in range(fraction_group.NumberOfBeams-1):\n",
    "            print('...calculating beam no. ' + str(i+1))\n",
    "            total_mu = fraction_group.ReferencedBeamSequence[i+1].BeamMeterset\n",
    "            mu_density += mu_density_per_beam_and_display(file.BeamSequence[i+1], total_mu, display=True,\n",
    "                                                          grid_resolution=grid_resolution, max_leaf_gap=max_leaf_gap, \n",
    "                                                          leaf_pair_widths=leaf_pair_widths)\n",
    "    \n",
    "    if display:\n",
    "        grid = mudensity.get_grid(max_leaf_gap=max_leaf_gap, grid_resolution=grid_resolution, \n",
    "                                  leaf_pair_widths=leaf_pair_widths)\n",
    "        mudensity.display_mu_density(grid, mu_density)\n",
    "        print('Total MU density of Current Case')\n",
    "        plt.show()\n",
    "\n",
    "    return mu_density\n"
   ]
  },
  {
   "cell_type": "code",
   "execution_count": 14,
   "metadata": {},
   "outputs": [
    {
     "name": "stdout",
     "output_type": "stream",
     "text": [
      "Starting\n",
      "...calculating beam no. 0\n",
      "......calculating segment no. 0\n",
      ".........showing the setup MLC-jaw positions of current segment\n"
     ]
    },
    {
     "data": {
      "image/png": "[encoded data removed]",
      "text/plain": [
       "<Figure size 432x288 with 1 Axes>"
      ]
     },
     "metadata": {
      "needs_background": "light"
     },
     "output_type": "display_data"
    },
    {
     "ename": "AttributeError",
     "evalue": "module 'pymedphys.mudensity' has no attribute 'calc_mu_density'",
     "output_type": "error",
     "traceback": [
      "\u001b[1;31m---------------------------------------------------------------------------\u001b[0m",
      "\u001b[1;31mAttributeError\u001b[0m                            Traceback (most recent call last)",
      "\u001b[1;32m<ipython-input-14-50d3b06bd45f>\u001b[0m in \u001b[0;36m<module>\u001b[1;34m\u001b[0m\n\u001b[1;32m----> 1\u001b[1;33m \u001b[0mmu_density\u001b[0m \u001b[1;33m=\u001b[0m \u001b[0mmu_density_per_patient_and_display\u001b[0m\u001b[1;33m(\u001b[0m\u001b[0mfile\u001b[0m\u001b[1;33m,\u001b[0m \u001b[0mfraction_group\u001b[0m\u001b[1;33m,\u001b[0m \u001b[0mdisplay\u001b[0m\u001b[1;33m=\u001b[0m\u001b[1;32mTrue\u001b[0m\u001b[1;33m)\u001b[0m\u001b[1;33m\u001b[0m\u001b[1;33m\u001b[0m\u001b[0m\n\u001b[0m\u001b[0;32m      2\u001b[0m \u001b[0mmu_density\u001b[0m\u001b[1;33m.\u001b[0m\u001b[0mshape\u001b[0m\u001b[1;33m\u001b[0m\u001b[1;33m\u001b[0m\u001b[0m\n",
      "\u001b[1;32m<ipython-input-7-1d991d528e05>\u001b[0m in \u001b[0;36mmu_density_per_patient_and_display\u001b[1;34m(file, fraction_group, display, grid_resolution, max_leaf_gap, leaf_pair_widths)\u001b[0m\n\u001b[0;32m      8\u001b[0m     mu_density = mu_density_per_beam_and_display(file.BeamSequence[0], total_mu, display=True, \n\u001b[0;32m      9\u001b[0m                                                  \u001b[0mgrid_resolution\u001b[0m\u001b[1;33m=\u001b[0m\u001b[0mgrid_resolution\u001b[0m\u001b[1;33m,\u001b[0m \u001b[0mmax_leaf_gap\u001b[0m\u001b[1;33m=\u001b[0m\u001b[0mmax_leaf_gap\u001b[0m\u001b[1;33m,\u001b[0m\u001b[1;33m\u001b[0m\u001b[1;33m\u001b[0m\u001b[0m\n\u001b[1;32m---> 10\u001b[1;33m                                                  leaf_pair_widths=leaf_pair_widths)\n\u001b[0m\u001b[0;32m     11\u001b[0m \u001b[1;33m\u001b[0m\u001b[0m\n\u001b[0;32m     12\u001b[0m     \u001b[1;32mif\u001b[0m \u001b[0mfraction_group\u001b[0m\u001b[1;33m.\u001b[0m\u001b[0mNumberOfBeams\u001b[0m \u001b[1;33m>\u001b[0m \u001b[1;36m1\u001b[0m\u001b[1;33m:\u001b[0m\u001b[1;33m\u001b[0m\u001b[1;33m\u001b[0m\u001b[0m\n",
      "\u001b[1;32m<ipython-input-6-94c743a5607b>\u001b[0m in \u001b[0;36mmu_density_per_beam_and_display\u001b[1;34m(beam, total_mu, display, grid_resolution, max_leaf_gap, leaf_pair_widths)\u001b[0m\n\u001b[0;32m      7\u001b[0m     mu_density = calc_mu_density_per_segment_and_display(beam.ControlPointSequence[0], 0, total_mu=total_mu, \n\u001b[0;32m      8\u001b[0m                                                          \u001b[0mcheck_mlc\u001b[0m\u001b[1;33m=\u001b[0m\u001b[1;32mTrue\u001b[0m\u001b[1;33m,\u001b[0m \u001b[0mdisplay\u001b[0m\u001b[1;33m=\u001b[0m\u001b[1;32mTrue\u001b[0m\u001b[1;33m,\u001b[0m \u001b[0mgrid_resolution\u001b[0m\u001b[1;33m=\u001b[0m\u001b[0mgrid_resolution\u001b[0m\u001b[1;33m,\u001b[0m\u001b[1;33m\u001b[0m\u001b[1;33m\u001b[0m\u001b[0m\n\u001b[1;32m----> 9\u001b[1;33m                                                          max_leaf_gap=max_leaf_gap, leaf_pair_widths=leaf_pair_widths)\n\u001b[0m\u001b[0;32m     10\u001b[0m \u001b[1;33m\u001b[0m\u001b[0m\n\u001b[0;32m     11\u001b[0m     \u001b[1;32mif\u001b[0m \u001b[0mN_CP\u001b[0m \u001b[1;33m>\u001b[0m \u001b[1;36m1\u001b[0m\u001b[1;33m:\u001b[0m\u001b[1;33m\u001b[0m\u001b[1;33m\u001b[0m\u001b[0m\n",
      "\u001b[1;32m<ipython-input-5-76d5edaf8c71>\u001b[0m in \u001b[0;36mcalc_mu_density_per_segment_and_display\u001b[1;34m(cp, current_weight, total_mu, check_mlc, display, grid_resolution, max_leaf_gap, leaf_pair_widths)\u001b[0m\n\u001b[0;32m     21\u001b[0m         \u001b[0mplt\u001b[0m\u001b[1;33m.\u001b[0m\u001b[0mshow\u001b[0m\u001b[1;33m(\u001b[0m\u001b[1;33m)\u001b[0m\u001b[1;33m\u001b[0m\u001b[1;33m\u001b[0m\u001b[0m\n\u001b[0;32m     22\u001b[0m \u001b[1;33m\u001b[0m\u001b[0m\n\u001b[1;32m---> 23\u001b[1;33m     mu_density = mudensity.calc_mu_density(mu, mlc, jaw, grid_resolution=grid_resolution, \n\u001b[0m\u001b[0;32m     24\u001b[0m                                            max_leaf_gap=max_leaf_gap, leaf_pair_widths=leaf_pair_widths)\n\u001b[0;32m     25\u001b[0m     \u001b[0mcurrent_weight\u001b[0m \u001b[1;33m=\u001b[0m \u001b[0mcp\u001b[0m\u001b[1;33m.\u001b[0m\u001b[0mCumulativeMetersetWeight\u001b[0m\u001b[1;33m\u001b[0m\u001b[1;33m\u001b[0m\u001b[0m\n",
      "\u001b[1;31mAttributeError\u001b[0m: module 'pymedphys.mudensity' has no attribute 'calc_mu_density'"
     ]
    }
   ],
   "source": [
    "mu_density = mu_density_per_patient_and_display(file, fraction_group, display=True)\n",
    "mu_density.shape"
   ]
  },
  {
   "cell_type": "code",
   "execution_count": null,
   "metadata": {},
   "outputs": [],
   "source": []
  }
 ],
 "metadata": {
  "kernelspec": {
   "display_name": "Python 3",
   "language": "python",
   "name": "python3"
  },
  "language_info": {
   "codemirror_mode": {
    "name": "ipython",
    "version": 3
   },
   "file_extension": ".py",
   "mimetype": "text/x-python",
   "name": "python",
   "nbconvert_exporter": "python",
   "pygments_lexer": "ipython3",
   "version": "3.7.4"
  }
 },
 "nbformat": 4,
 "nbformat_minor": 2
}
