{
 "cells": [
  {
   "cell_type": "markdown",
   "metadata": {},
   "source": [
    "## TRF LOG CHECKING"
   ]
  },
  {
   "cell_type": "code",
   "execution_count": 1,
   "metadata": {},
   "outputs": [],
   "source": [
    "import pandas as pd\n",
    "import numpy as np\n",
    "import matplotlib.pyplot as plt\n",
    "import pydicom\n",
    "import pymedphys\n",
    "from pymedphys import Delivery\n",
    "import os\n",
    "\n",
    "DICOM_path =  'D:\\\\VM Settings\\\\XHTOMODATA RAW\\\\0025\\\\0025_VMATQATEST.dcm'\n",
    "plan_dcm = pydicom.read_file(DICOM_path, force=True)\n",
    "\n",
    "trf_path = 'D:\\\\VM Settings\\\\XHTOMODATA RAW\\\\TRF\\\\0025.trf'\n",
    "pd_trf_table = pymedphys.trf.read(trf_path)\n",
    "trf_table = pd_trf_table[1]\n"
   ]
  },
  {
   "cell_type": "code",
   "execution_count": 5,
   "metadata": {},
   "outputs": [],
   "source": [
    "max_dose_rate = []\n",
    "pt_id = ['002','003','004','005','006','009','0010','0015','0016','0017','0019','0020','0023','0024','0025','0026','0028']\n",
    "for item in pt_id:\n",
    "    trf_path = 'D:\\\\VM Settings\\\\XHTOMODATA RAW\\\\TRF\\\\'+ item +'.trf'\n",
    "    pd_trf_table = pymedphys.trf.read(trf_path)\n",
    "    trf_table = pd_trf_table[1]\n",
    "    max_dose_rate.append(np.max(trf_table['Actual Dose Rate/Actual Value (Mu/min)']))"
   ]
  },
  {
   "cell_type": "code",
   "execution_count": null,
   "metadata": {},
   "outputs": [],
   "source": [
    "fig = plt.figure(1, figsize=(9, 6))\n",
    "ax = fig.add_subplot(111)\n",
    "bp = ax.plot(diff,patch_artist=True)\n",
    "ax.set_xticklabels(pt_id)\n",
    "ax.set_xlabel('VMAT case #')\n",
    "ax.set_ylabel('Max Dose Rate(MU/Min)')\n",
    "plt.show()"
   ]
  },
  {
   "cell_type": "code",
   "execution_count": 8,
   "metadata": {},
   "outputs": [],
   "source": [
    "plan_dcm.BeamSequence[0].ControlPointSequence[0]\n",
    "DCM_CP_inf = {'MLC':[],'JAW':[],'MU':[],'Gantry':[]}\n",
    "for i in range(len(plan_dcm.BeamSequence[0].ControlPointSequence)):\n",
    "#     DCM_CP_inf['MLC']\n",
    "#     DCM_CP_inf['JAW']\n",
    "#     DCM_CP_inf['MU']\n",
    "    DCM_CP_inf['Gantry'].append(float(plan_dcm.BeamSequence[0].ControlPointSequence[i].GantryAngle))"
   ]
  },
  {
   "cell_type": "code",
   "execution_count": null,
   "metadata": {},
   "outputs": [],
   "source": [
    "TRF_CPs,TRF_CP_inf = {},{'MLC':[],'JAW':[],'MU':[],'Gantry':[]}\n",
    "for i in range(int(max(trf_table['Control point/Actual Value (None)']))):\n",
    "#     print('This is {}th control point'.format(i+1))\n",
    "    TRF_CPs[i+1] = trf_table[(trf_table['Control point/Actual Value (None)'] == i+1) & (trf_table['Linac State/Actual Value (None)'] == 'Radiation On')]\n",
    "    MLC_A = [-TRF_CPs[i+1].iloc[-1]['Y2 Leaf '+ str(j+1) + '/Scaled Actual (mm)'] for j in range(80)]\n",
    "    MLC_B = [TRF_CPs[i+1].iloc[-1]['Y1 Leaf '+ str(j+1) + '/Scaled Actual (mm)'] for j in range(80)]\n",
    "    TRF_CP_inf['MLC'].append([MLC_A, MLC_B])\n",
    "    TRF_CP_inf['JAW'].append([-TRF_CPs[i+1].iloc[-1]['X2 Diaphragm/Scaled Actual (mm)'],TRF_CPs[i+1].iloc[-1]['X1 Diaphragm/Scaled Actual (mm)']])\n",
    "    TRF_CP_inf['MU'].append(TRF_CPs[i+1]['Step Dose/Actual Value (Mu)'].iloc[-1] - TRF_CPs[i+1]['Step Dose/Actual Value (Mu)'].iloc[0])\n",
    "    TRF_CP_inf['Gantry'].append(TRF_CPs[i+1]['Step Gantry/Scaled Actual (deg)'].iloc[-1])"
   ]
  },
  {
   "cell_type": "code",
   "execution_count": 5,
   "metadata": {},
   "outputs": [
    {
     "data": {
      "text/plain": [
       "(138, 132)"
      ]
     },
     "execution_count": 5,
     "metadata": {},
     "output_type": "execute_result"
    }
   ],
   "source": [
    "len(TRF_CP_inf['Gantry']),len(DCM_CP_inf['Gantry'])"
   ]
  },
  {
   "cell_type": "code",
   "execution_count": 110,
   "metadata": {},
   "outputs": [
    {
     "data": {
      "text/plain": [
       "(-178.1, 182.0)"
      ]
     },
     "execution_count": 110,
     "metadata": {},
     "output_type": "execute_result"
    }
   ],
   "source": [
    "TRF_CP_inf['Gantry'][0],DCM_CP_inf['Gantry'][1]"
   ]
  },
  {
   "cell_type": "markdown",
   "metadata": {},
   "source": [
    "### Compare MLC positions within field between TRF and DICOM \n"
   ]
  },
  {
   "cell_type": "code",
   "execution_count": 56,
   "metadata": {},
   "outputs": [
    {
     "data": {
      "text/plain": [
       "Index(['unknown2', 'unknown3', 'unknown4', 'Control point/Actual Value (None)',\n",
       "       'Energy Cal Block/Set (None)', 'Linac State/Actual Value (None)',\n",
       "       'Actual Dose Rate/Actual Value (Mu/min)', 'Step Dose/Actual Value (Mu)',\n",
       "       'Dose/Raw value (1/64th Mu)', 'PRF Pauses/Actual Value (None)',\n",
       "       'Wedge Position/Actual Value (None)', 'Step Gantry/Scaled Actual (deg)',\n",
       "       'Step Gantry/Positional Error (deg)',\n",
       "       'Step Collimator/Scaled Actual (deg)',\n",
       "       'Step Collimator/Positional Error (deg)',\n",
       "       'Table Isocentric/Scaled Actual (deg)',\n",
       "       'Table Isocentric/Positional Error (deg)',\n",
       "       'Table Longitudinal/Scaled Actual (deg)',\n",
       "       'Table Longitudinal/Positional Error (deg)',\n",
       "       'Table Lateral/Scaled Actual (deg)',\n",
       "       'Table Lateral/Positional Error (deg)',\n",
       "       'Table Height/Scaled Actual (deg)',\n",
       "       'Table Height/Positional Error (deg)',\n",
       "       'X1 Diaphragm/Scaled Actual (mm)', 'X2 Diaphragm/Scaled Actual (mm)',\n",
       "       'X1 Diaphragm/Positional Error (mm)',\n",
       "       'X2 Diaphragm/Positional Error (mm)', 'Dlg Y2/Scaled Actual (mm)',\n",
       "       'Dlg Y1/Scaled Actual (mm)', 'Dlg Y2/Positional Error (mm)',\n",
       "       'Dlg Y1/Positional Error (mm)', 'Y2 Leaf 40/Actual Tolerance (mm)',\n",
       "       'Y1 Leaf 40/Actual Tolerance (mm)', 'Y2 Leaf 1/Scaled Actual (mm)',\n",
       "       'Y2 Leaf 2/Scaled Actual (mm)', 'Y2 Leaf 3/Scaled Actual (mm)',\n",
       "       'Y2 Leaf 4/Scaled Actual (mm)', 'Y2 Leaf 5/Scaled Actual (mm)',\n",
       "       'Y2 Leaf 6/Scaled Actual (mm)', 'Y2 Leaf 7/Scaled Actual (mm)',\n",
       "       'Y2 Leaf 8/Scaled Actual (mm)', 'Y2 Leaf 9/Scaled Actual (mm)',\n",
       "       'Y2 Leaf 10/Scaled Actual (mm)', 'Y2 Leaf 11/Scaled Actual (mm)',\n",
       "       'Y2 Leaf 12/Scaled Actual (mm)', 'Y2 Leaf 13/Scaled Actual (mm)',\n",
       "       'Y2 Leaf 14/Scaled Actual (mm)', 'Y2 Leaf 15/Scaled Actual (mm)',\n",
       "       'Y2 Leaf 16/Scaled Actual (mm)'],\n",
       "      dtype='object')"
      ]
     },
     "execution_count": 56,
     "metadata": {},
     "output_type": "execute_result"
    }
   ],
   "source": []
  },
  {
   "cell_type": "code",
   "execution_count": 79,
   "metadata": {},
   "outputs": [],
   "source": [
    "MLC_A = [-TRF_CPs[15].iloc[-1]['Y2 Leaf '+ str(j+1) + '/Scaled Actual (mm)'] for j in range(80)]"
   ]
  },
  {
   "cell_type": "code",
   "execution_count": null,
   "metadata": {},
   "outputs": [],
   "source": []
  },
  {
   "cell_type": "code",
   "execution_count": null,
   "metadata": {},
   "outputs": [],
   "source": []
  }
 ],
 "metadata": {
  "kernelspec": {
   "display_name": "Python 3",
   "language": "python",
   "name": "python3"
  },
  "language_info": {
   "codemirror_mode": {
    "name": "ipython",
    "version": 3
   },
   "file_extension": ".py",
   "mimetype": "text/x-python",
   "name": "python",
   "nbconvert_exporter": "python",
   "pygments_lexer": "ipython3",
   "version": "3.7.4"
  }
 },
 "nbformat": 4,
 "nbformat_minor": 2
}
